{
 "cells": [
  {
   "cell_type": "markdown",
   "metadata": {},
   "source": [
    "# Step 2: depth-average TF\n",
    "This notebook is to test an efficient application of *Step 2* of Verjans's workflow: depth-average the ocean thermal forcing we produced in Step 1.\n",
    "\n",
    "The full workflow is outlined in Vincent's Readme1.txt in [this Zenodo archive](https://zenodo.org/records/7931326).  We are modifying the workflow to deploy it efficiently for ISMIP7.\n",
    "\n",
    "14 Nov 2024 | EHU\n",
    "\n",
    "Edits:\n",
    "- Applied xarray `sel` and `where` to streamline this computation. Removed unused read-in commands.\n",
    "- TODO 14 Nov: Correct metadata in NC file being written out"
   ]
  },
  {
   "cell_type": "markdown",
   "metadata": {},
   "source": [
    "### Imports and run settings"
   ]
  },
  {
   "cell_type": "code",
   "execution_count": null,
   "metadata": {},
   "outputs": [],
   "source": [
    "#!/usr/bin/env python3\n",
    "# -*- coding: utf-8 -*-\n",
    "\"\"\"\n",
    "Depth-averaging TF in given DepthRange at all grid points of given Model\n",
    "Choose scenario of interest\n",
    "\n",
    "@author: vincent\n",
    "\"\"\"\n",
    "\n",
    "import os\n",
    "import sys\n",
    "import copy\n",
    "import csv\n",
    "import numpy as np\n",
    "import netCDF4 as nc\n",
    "import xarray as xr\n",
    "import dask\n",
    "from datetime import datetime\n",
    "\n",
    "from verjansFunctions import freezingPoint\n",
    "from verjansFunctions import calcDpAveraged"
   ]
  },
  {
   "cell_type": "code",
   "execution_count": null,
   "metadata": {},
   "outputs": [],
   "source": [
    "## Settings for this run\n",
    "savingTF         = True\n",
    "cwd              = os.getcwd()+'/'\n",
    "\n",
    "SelModel         = 'CESM2'\n",
    "DepthRange       = [0,500] #depth range of interest, [200:500] is from Slater et al. (2019, 2020)\n",
    "ShallowThreshold = 100 #bathymetry threshold: if bathymetry is shallower, gridpoint is discarded\n",
    "\n",
    "DirModNC   = f'/home/theghub/ehultee/data/'\n",
    "DirSave    = f'/home/theghub/ehultee/data'\n",
    "\n",
    "\n",
    "### EHU: I suspect we don't need any of the below from VV, but note we'll need to think through \n",
    "###     settings for looping over multiple GCMs in the production run.\n",
    "To2015hist                 = False\n",
    "To2100histssp585           = False\n",
    "To2100histssp126           = True\n",
    "\n",
    "# if(To2015hist):\n",
    "#     partname = 'hist'\n",
    "# elif(To2100histssp585):\n",
    "#     partname = 'hist2100ssp585'\n",
    "# elif(To2100histssp126):\n",
    "#     partname = 'hist2100ssp126'\n",
    "    \n",
    "# if(SelModel=='MIROCES2L'):\n",
    "#     dim2d              = True\n",
    "#     if(To2015hist):\n",
    "#         ls_members     = [f'r{id}' for id in range(1,30+1)]\n",
    "#     elif(To2100histssp585 or To2100histssp126):\n",
    "#         ls_members     = [f'r{id}' for id in range(1,10+1)]\n",
    "# elif(SelModel=='IPSLCM6A'):\n",
    "#     dim2d              = True\n",
    "#     if(To2015hist):\n",
    "#         ls_members     = [f'r{id}' for id in range(1,32+1)]\n",
    "#         ls_members.remove('r2') #no r2 member for IPSLCM6A\n",
    "#     elif(To2100histssp585 or To2100histssp126):\n",
    "#         ls_members     = ['r1','r3','r4','r6','r14']"
   ]
  },
  {
   "cell_type": "markdown",
   "metadata": {},
   "source": [
    "### Read in dataset"
   ]
  },
  {
   "cell_type": "code",
   "execution_count": null,
   "metadata": {},
   "outputs": [],
   "source": [
    "path_o = DirModNC + 'tf-CESM2-200001-201412-v4_no_intermed_compute.nc'\n",
    "\n",
    "ds = xr.open_dataset(path_o)\n",
    "ds"
   ]
  },
  {
   "cell_type": "markdown",
   "metadata": {},
   "source": [
    "### Average over a depth slice"
   ]
  },
  {
   "cell_type": "markdown",
   "metadata": {},
   "source": [
    "What we want to do is simply compute the average TF over a depth range defined in `DepthRange` above, with the condition that bathymetry must be deeper than `ShallowThreshold`.  Vincent does this by reading various NC variables into empty arrays, then applying if-else tests to find the range over which to average.  We should be able to do this on dask arrays using xarray's `sel` command. \n",
    "\n",
    "NOTE: I can easily select the relevant depth range, but I think Vincent's `ShallowThreshold` approach assumes that the depth variable is only defined up to the maximum depth of the grid cell (the bathymetry).  I believe the xarray way to do this is to find cells where the TF is NaN for levels >100 m.  Should double-check."
   ]
  },
  {
   "cell_type": "code",
   "execution_count": null,
   "metadata": {
    "scrolled": true
   },
   "outputs": [],
   "source": [
    "depth_slice = ds.sel(lev=slice(DepthRange[0], DepthRange[1]))\n",
    "depth_slice.mean(dim='lev', skipna=True)"
   ]
  },
  {
   "cell_type": "markdown",
   "metadata": {},
   "source": [
    "### Apply depth condition"
   ]
  },
  {
   "cell_type": "code",
   "execution_count": null,
   "metadata": {},
   "outputs": [],
   "source": [
    "no_shallow = ds.TF.sel(lev=125.0) ## first set up what to test - the depth level just below ShallowThreshold\n",
    "## TODO: automate this better? Currently it is hard-coded and a user change to ShallowThreshold would have to be manually applied here as well\n",
    "\n",
    "deep_only = ds.TF.where(~xr.ufuncs.isnan(no_shallow))   ## now select TF in the whole dataset wherever it is *not NaN* below ShallowThreshold\n",
    "deep_only.max() ## reality check: is this a float and not a nan? is it a reasonable value?"
   ]
  },
  {
   "cell_type": "markdown",
   "metadata": {},
   "source": [
    "For me the value output here is about 19. Seems very high, but this is the max.  At least it's a float!"
   ]
  },
  {
   "cell_type": "code",
   "execution_count": null,
   "metadata": {},
   "outputs": [],
   "source": [
    "deep_sliced = ds.sel(lev=slice(DepthRange[0], DepthRange[1]))\n",
    "dsm = deep_sliced.mean(dim='lev', skipna=True)\n",
    "dsm"
   ]
  },
  {
   "cell_type": "markdown",
   "metadata": {},
   "source": [
    "According to me, the above is the data Vincent wants: depth-averaged over `DepthRange`, trimmed to include only cells with data deeper than `ShallowThreshold`.  Write out to a NetCDF."
   ]
  },
  {
   "cell_type": "markdown",
   "metadata": {},
   "source": [
    "### Write NetCDF out"
   ]
  },
  {
   "cell_type": "code",
   "execution_count": null,
   "metadata": {},
   "outputs": [],
   "source": [
    "from datetime import date\n",
    "out_fn = DirSave + '/tfdpavg-{}-{}.nc'.format(SelModel, date.today())\n",
    "\n",
    "from dask.diagnostics import ProgressBar\n",
    "\n",
    "with ProgressBar():\n",
    "    dsm.to_netcdf(path=out_fn)"
   ]
  },
  {
   "cell_type": "code",
   "execution_count": null,
   "metadata": {},
   "outputs": [],
   "source": [
    "## test read-in\n",
    "\n",
    "ds2 = xr.open_dataset(out_fn)\n",
    "ds2"
   ]
  },
  {
   "cell_type": "markdown",
   "metadata": {},
   "source": [
    "This shows that we have successfully computed and written out depth-averaged TF -- note that the `lev` coordinate present in the original TF dataset has now disappeared, because that is the dimension over which we averaged.  \n",
    "\n",
    "TODO: Correct metadata for the TF variable here to indicate that it is depth-averaged."
   ]
  },
  {
   "cell_type": "markdown",
   "metadata": {},
   "source": [
    "---\n",
    "Ref Vincent's raw code below."
   ]
  },
  {
   "cell_type": "code",
   "execution_count": null,
   "metadata": {},
   "outputs": [],
   "source": [
    "## The below is Vincent's raw code, for reference.\n",
    "\n",
    "### Depth indices ###\n",
    "dpmin = DepthRange[0]\n",
    "### Compute 1 member at a time ###\n",
    "for mm,member in enumerate(ls_members):\n",
    "    print(f'Member: {member}')\n",
    "    tfdpavg    = np.zeros((len(timefull),nny,nnx))\n",
    "    memberfile = f'thetao_tf_{SelModel}{partname}_{member}.nc'\n",
    "    ds         = nc.Dataset(DirModNC+memberfile)\n",
    "    tfprofilefull = np.array(ds.variables['thermalforcing'])\n",
    "    ds.close()\n",
    "    for indy in range(nny):\n",
    "        print(f'indy: {indy}')\n",
    "        for indx in range(nnx):\n",
    "            # Extract entire tf profile #\n",
    "            tf0   = tfprofilefull[:,:,indy,indx]\n",
    "            # Check if bathy is at least deeper than ShallowThreshold #\n",
    "            if(tf0[0,izth]<1e10):\n",
    "                # Find depth index of bathymetry #\n",
    "                izmax = np.where(tf0[0,:]<1e10)[0][-1]\n",
    "                # Constrain max depth by DepthRange or bathymetry #\n",
    "                dpmax = min(DepthRange[1],depthfull[izmax])\n",
    "                # Calculate average TF over depth range #\n",
    "                for tt in range(len(timefull)):\n",
    "                    tfdpavg[tt,indy,indx] = calcDpAveraged(tf0[tt,:],depthfull,dmin=dpmin,dmax=dpmax)\n",
    "            else:\n",
    "                # Bathymetry does not go deep enough #\n",
    "                tfdpavg[:,indy,indx] = 1.1e20\n",
    "            \n",
    "    if(savingTF):\n",
    "        nameout = f'ensemble{SelModel}_{partname}_M{member}_TFdpavg_Dp{DepthRange[0]}to{DepthRange[1]}_bathymin{ShallowThreshold}.nc'\n",
    "        ### Open netcdf ###\n",
    "        outnc        = nc.Dataset(DirSave+nameout,'w',format='NETCDF4')\n",
    "        timedim      = outnc.createDimension('timeDim',size=len(timefull)) \n",
    "        zdim         = outnc.createDimension('depthDim',size=len(depthfull)) \n",
    "        latdim       = outnc.createDimension('latDim',nny) \n",
    "        londim       = outnc.createDimension('lonDim',nnx) \n",
    "        \n",
    "        time_nc      = outnc.createVariable('time','f4',('timeDim',))\n",
    "        depth_nc     = outnc.createVariable('depth','f4',('depthDim',))\n",
    "        if(dim2d==True):\n",
    "            lat_nc   = outnc.createVariable('lat','f4',('latDim','lonDim',))\n",
    "            lon_nc   = outnc.createVariable('lon','f4',('latDim','lonDim',))\n",
    "        elif(dim2d==False):\n",
    "            lat_nc   = outnc.createVariable('lat','f4',('latDim',))\n",
    "            lon_nc   = outnc.createVariable('lon','f4',('lonDim',))\n",
    "        tfdpavg_nc   = outnc.createVariable(f'tfdpavg{DepthRange[0]}to{DepthRange[1]}_bathymin{ShallowThreshold}','f4',('timeDim','latDim','lonDim',))\n",
    "            \n",
    "        time_nc[:]          = timefull\n",
    "        depth_nc[:]         = depthfull\n",
    "        if(dim2d==True):\n",
    "            lat_nc[:,:]     = latsfull\n",
    "            lon_nc[:,:]     = lonsfull\n",
    "        elif(dim2d==False):\n",
    "            lat_nc[:]       = latsfull\n",
    "            lon_nc[:]       = lonsfull\n",
    "        tfdpavg_nc[:,:,:]   = tfdpavg\n",
    "        \n",
    "        depth_nc.units     = 'meter'\n",
    "        time_nc.units      = 'yr'\n",
    "        tfdpavg_nc.units   = 'degC'\n",
    "        outnc.close()\n",
    "\n",
    "            \n",
    "     \n",
    "# print('End of python job')\n",
    "# os._exit(0) "
   ]
  }
 ],
 "metadata": {
  "kernelspec": {
   "display_name": "geospatial-plus python3",
   "language": "python",
   "name": "geospatial-anaconda-6"
  },
  "language_info": {
   "codemirror_mode": {
    "name": "ipython",
    "version": 3
   },
   "file_extension": ".py",
   "mimetype": "text/x-python",
   "name": "python",
   "nbconvert_exporter": "python",
   "pygments_lexer": "ipython3",
   "version": "3.7.7"
  }
 },
 "nbformat": 4,
 "nbformat_minor": 2
}
